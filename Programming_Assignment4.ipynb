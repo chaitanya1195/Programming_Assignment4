{
 "cells": [
  {
   "cell_type": "code",
   "execution_count": 36,
   "id": "b8f08647",
   "metadata": {},
   "outputs": [
    {
     "name": "stdout",
     "output_type": "stream",
     "text": [
      "Enter a number: 0\n",
      "For zero factorial of a number is 1\n"
     ]
    }
   ],
   "source": [
    "#1 Write a Python Program to Find the Factorial of a Number?\n",
    "\n",
    "a = int(input(\"Enter a number: \"))\n",
    "factorial = 1\n",
    "if a < 0:\n",
    "    print(\"For negative number factorial does'nt exist\")\n",
    "    \n",
    "elif a == 0:\n",
    "        \n",
    "        print(\"For zero factorial of a number is 1\")\n",
    "else:\n",
    "    \n",
    "    for i in range(1, a+1):\n",
    "    \n",
    "        factorial = factorial*i\n",
    "\n",
    "    print(\"factorial is {}\".format(factorial))"
   ]
  },
  {
   "cell_type": "code",
   "execution_count": 44,
   "id": "e8059ba3",
   "metadata": {},
   "outputs": [
    {
     "name": "stdout",
     "output_type": "stream",
     "text": [
      "Enter multiplication table number: 4\n",
      "4 X 1 = 4\n",
      "4 X 2 = 8\n",
      "4 X 3 = 12\n",
      "4 X 4 = 16\n",
      "4 X 5 = 20\n",
      "4 X 6 = 24\n",
      "4 X 7 = 28\n",
      "4 X 8 = 32\n",
      "4 X 9 = 36\n",
      "4 X 10 = 40\n"
     ]
    }
   ],
   "source": [
    "#2 Write a Python Program to Display the multiplication Table?\n",
    "\n",
    "a = int(input(\"Enter multiplication table number: \"))\n",
    "\n",
    "for i in range(1, 10+1):\n",
    "    print(a, 'X' ,i, '=', a*i)\n"
   ]
  },
  {
   "cell_type": "code",
   "execution_count": 13,
   "id": "d315813f",
   "metadata": {},
   "outputs": [
    {
     "name": "stdout",
     "output_type": "stream",
     "text": [
      "Enter how many terms of sequence: 7\n",
      "1\n",
      "1\n",
      "2\n",
      "3\n",
      "5\n",
      "8\n",
      "13\n"
     ]
    }
   ],
   "source": [
    "#3 Write a Python Program to Print the Fibonacci sequence?\n",
    "\n",
    "n = int(input(\"Enter how many terms of sequence: \"))\n",
    "n1 = 1\n",
    "n2 = 1\n",
    "count = 0\n",
    "\n",
    "# check wheather given number of terns is valid\n",
    "if n <= 0:\n",
    "    print(\"please enter a positive interger \")\n",
    "    \n",
    "# if there is only one term, return n1\n",
    "elif n == 1:\n",
    "    print(\"Fibonacci sequence upto\", n,\":\")\n",
    "    print(n1)\n",
    "    \n",
    "# Fibonacci sequence\n",
    "else:\n",
    "    while count < n:\n",
    "        print(n1)\n",
    "        nth = n1 + n2\n",
    "        \n",
    "        n1 = n2\n",
    "        n2 = nth\n",
    "        count += 1\n"
   ]
  },
  {
   "cell_type": "code",
   "execution_count": 10,
   "id": "cb20fe45",
   "metadata": {},
   "outputs": [
    {
     "name": "stdout",
     "output_type": "stream",
     "text": [
      "Enter a amstrong number to check: 153\n",
      "Given number is an Armstrong Number\n"
     ]
    }
   ],
   "source": [
    "#4 Write a Python Program to Check Armstrong Number?\n",
    "\n",
    "number = int(input(\"Enter a amstrong number to check: \"))\n",
    "digits = len(str(number))\n",
    "temp = number\n",
    "add_sum = 0\n",
    "while temp != 0:\n",
    "    # get the last digit in the number\n",
    "    k = temp % 10\n",
    "    # find k^digits\n",
    "    add_sum += k**digits\n",
    "    # floor division\n",
    "    # which update number with second last digit as last digit\n",
    "    temp = temp//10\n",
    "if add_sum == number:\n",
    "    print('Given number is an Armstrong Number')\n",
    "else:\n",
    "    print('Given number is not a Armstrong Number')"
   ]
  },
  {
   "cell_type": "code",
   "execution_count": 24,
   "id": "4e2b4697",
   "metadata": {},
   "outputs": [
    {
     "name": "stdout",
     "output_type": "stream",
     "text": [
      "enter lower number: 200\n",
      "Enter upper number: 3000\n",
      "370\n",
      "371\n",
      "407\n",
      "1634\n"
     ]
    }
   ],
   "source": [
    "#5 Write a Python Program to Find Armstrong Number in an Interval?\n",
    "\n",
    "lower = int(input(\"enter lower number: \"))\n",
    "upper = int(input(\"Enter upper number: \"))\n",
    "\n",
    "for num in range(lower, upper + 1):\n",
    "\n",
    "   # order of number\n",
    "    order = len(str(num))\n",
    "    \n",
    "   # initialize sum\n",
    "    sum = 0\n",
    "\n",
    "    temp = num\n",
    "    while temp > 0:\n",
    "        digit = temp % 10\n",
    "        sum += digit ** order\n",
    "        temp //= 10\n",
    "\n",
    "    if num == sum:\n",
    "        print(num)"
   ]
  },
  {
   "cell_type": "code",
   "execution_count": 3,
   "id": "5cbad020",
   "metadata": {},
   "outputs": [
    {
     "name": "stdout",
     "output_type": "stream",
     "text": [
      "Enter a number: 6\n",
      "the sum is 21\n"
     ]
    }
   ],
   "source": [
    "#6 Write a Python Program to Find the Sum of Natural Numbers?\n",
    "\n",
    "num = int(input(\"Enter a number: \"))\n",
    "\n",
    "if num < 0:\n",
    "    print(\"Enter a positive number\")\n",
    "else:\n",
    "    sum = 0 \n",
    "    while (num > 0):\n",
    "        sum += num\n",
    "        num -= 1\n",
    "    print(\"the sum is {0}\".format(sum))"
   ]
  },
  {
   "cell_type": "code",
   "execution_count": null,
   "id": "b4e40364",
   "metadata": {},
   "outputs": [],
   "source": []
  }
 ],
 "metadata": {
  "kernelspec": {
   "display_name": "Python 3 (ipykernel)",
   "language": "python",
   "name": "python3"
  },
  "language_info": {
   "codemirror_mode": {
    "name": "ipython",
    "version": 3
   },
   "file_extension": ".py",
   "mimetype": "text/x-python",
   "name": "python",
   "nbconvert_exporter": "python",
   "pygments_lexer": "ipython3",
   "version": "3.9.12"
  }
 },
 "nbformat": 4,
 "nbformat_minor": 5
}
